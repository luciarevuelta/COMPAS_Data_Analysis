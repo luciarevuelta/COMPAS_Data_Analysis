{
 "cells": [
  {
   "cell_type": "markdown",
   "id": "c928ad7d",
   "metadata": {},
   "source": [
    "\n",
    "\n",
    "<h1 align=center><font size = 5>Caso práctico</font></h1>"
   ]
  },
  {
   "cell_type": "markdown",
   "id": "4c64abbe",
   "metadata": {},
   "source": [
    "<h2>Índice</h2>\n",
    "\n",
    "<div class=\"alert alert-block alert-info\" style=\"margin-top: 20px\">\n",
    "<ol>\n",
    "    <li><a href=\"#data_acquisition\">Cargar los datos y realizar un análisis exploratorio y una evaluación de la calidad de los datos necesarios para el\n",
    "resto del caso.\n",
    "Específicamente, evaluar la integridad, validez y actualidad de los datos y proponer estrategias de mitigación de\n",
    "los posibles problemas encontrados.\n",
    "        </a></li>\n",
    "      <li><a href=\"#data_acquisition\">  ¿Son los campos “is_recid” e “is_violent_recid” en este conjunto de datos adecuados para evaluar la precisión\n",
    "de las estimaciones de riesgo generadas por el sistema COMPAS? Si no es así, definir y calcular una feature\n",
    "que sí lo sea. </a></li>\n",
    "\n",
    "    \n",
    "   <li><a href=\"#basic_insight\"> El umbral para establecer medidas preventivas de la reincidencia es de 7 en adelante.\n",
    "Dado este umbral, generar una tabla de contingencia, explicando qué caso se considera como “positivo” (y, por\n",
    "lo tanto, cuáles son los errores de tipo I y los errores de tipo II).</a></li>\n",
    "\n",
    "   <li><a href=\"#basic_insight\"> El sistema asigna, de media, evaluaciones de riesgo más altas a los hombres que a las mujeres, y a las\n",
    "personas de raza afroamericana que a las de raza caucásica. Sin embargo, también las tasas de reincidencia\n",
    "son más altas para esos colectivos, aunque no está claro que la asignación de riesgo sea “justa” o no.\n",
    "Mostrar estas diferencias mediante representaciones gráficas y utilizarlas para analizar si la asignación de\n",
    "evaluaciones es justa o no.</a></li>\n",
    "   <li><a href=\"#basic_insight\">¿Para qué tipo de riesgos, el de delitos generales o el de delitos violentos, tiene el sistema más capacidad\n",
    "predictiva? </a></li>\n",
    "    \n",
    "</ol>\n",
    "<ul>\n",
    "   "
   ]
  },
  {
   "cell_type": "markdown",
   "id": "a4623dc5",
   "metadata": {},
   "source": [
    "# EJERCICIO 1"
   ]
  },
  {
   "cell_type": "markdown",
   "id": "c11d4d58",
   "metadata": {},
   "source": [
    "El perfil de gestión de delincuentes correccionales para sanciones alternativas *( COMPAS )* es una herramienta desarrollada por Northpointe y utilizada por los tribunales de EE. UU para evaluar la probabilidad de que un acusado se convierta en reincidente. *COMPAS* ha sido utilizado por los estados de Nueva York, Wisconsin, California, el condado de Broward de Florida y otras jurisdicciones de EE.UU.\n",
    "\n",
    "Este software utiliza un algoritmo para evaluar el riesgo potencial de reincidencia de un delincuente. Northpointe creó escalas de riesgo para la reincidencia general y violenta, así como para la mala conducta previa al juicio.\n",
    "\n",
    "Sin embargo, existen numerosas críticas a este softwate y diferentes fallos legales. Dado que los algoritmos que utiliza son secretos comerciales, no pueden ser examinados por el público y las partes afectadas. Además, se ha demostrado que los algoritmos simples, transparentes y más interpretables realizan predicciones aproximadamente tan bien como el algoritmo *COMPAS*.\n",
    "\n",
    "\n"
   ]
  },
  {
   "cell_type": "markdown",
   "id": "80f97965",
   "metadata": {},
   "source": [
    "# 1. Análisis exploratorio\n"
   ]
  },
  {
   "cell_type": "markdown",
   "id": "255dda7b",
   "metadata": {},
   "source": [
    "Existen varios formatos para un conjunto de datos: .csv, .json, .xlsx, etc. En nuestro caso, el conjunto de datos 'compas_scores' es de una fuente local en formato CSV (valores separados por coma).\n",
    "\n",
    "Primero de nada cargaremos las librerías que vamos a emplear para la resolución de este ejercicio."
   ]
  },
  {
   "cell_type": "code",
   "execution_count": null,
   "id": "0b536f90",
   "metadata": {},
   "outputs": [],
   "source": [
    "import pandas as pd\n",
    "import numpy as np\n",
    "import seaborn as sns\n",
    "from matplotlib import pyplot as plt\n",
    "import datetime\n",
    "import altair as alt\n",
    "alt.data_transformers.disable_max_rows()"
   ]
  },
  {
   "cell_type": "markdown",
   "id": "88e86a3b",
   "metadata": {},
   "source": [
    "<h2>1.1 Lectura de Datos</h2>"
   ]
  },
  {
   "cell_type": "markdown",
   "id": "2000639b",
   "metadata": {},
   "source": [
    "Utilizamos la función pandas.read_csv() para leer el archivo csv."
   ]
  },
  {
   "cell_type": "code",
   "execution_count": null,
   "id": "564dfa06",
   "metadata": {},
   "outputs": [],
   "source": [
    "df = pd.read_csv('compas_scores.csv')\n",
    "df.head(4)"
   ]
  },
  {
   "cell_type": "code",
   "execution_count": null,
   "id": "e29fbda3",
   "metadata": {},
   "outputs": [],
   "source": [
    "# muestra las primeras 5 filas mediante el método dataframe.head()\n",
    "print(\"Las primeras 5 filas del DataFrame son:\") \n",
    "df.head(5)"
   ]
  },
  {
   "cell_type": "code",
   "execution_count": null,
   "id": "a8998bcb",
   "metadata": {},
   "outputs": [],
   "source": [
    "# muestra las primeras 5 filas mediante el método dataframe.tail()\n",
    "print(\"Las últimas 5 filas del DataFrame son:\") \n",
    "df.tail()"
   ]
  },
  {
   "cell_type": "markdown",
   "id": "ea2a0887",
   "metadata": {},
   "source": [
    "En una primera visual observamos algo muy destacable y es que hay varias columnas que presentan valores faltantes. "
   ]
  },
  {
   "cell_type": "markdown",
   "id": "20e3f188",
   "metadata": {},
   "source": [
    "\n",
    "A continuación, es momento de explorar más detenidamente el conjunto de datos. Para ello, lo primero que haremos será entender el significado de cada columna para así proceder a evaluar su integridad, validez y actualidad de los datos.\n",
    "\n",
    "id: Número que identifica al delincuente en el proceso.\n",
    "\n",
    "name: Nombre completo del detenido.\n",
    "\n",
    "first: Nombre del individuo.\n",
    "\n",
    "last: Apellido del individuo.\n",
    "\n",
    "compas_screening_date: Se refiere a la fecha en la que se realizó la evaluación.\n",
    "\n",
    "sex: Género (Hombre o Mujer).\n",
    "\n",
    "dob: Fecha de nacimiento.\n",
    "\n",
    "age: Edad.\n",
    "\n",
    "age_cat: Edad a la que fue capturado.\n",
    "\n",
    "race: Raza del detenido.\n",
    "\n",
    "juv_fel_count: Número de delitos juveniles .\n",
    "\n",
    "decile_score: Es un número (de 1 a 10) que indica el riesgo de reincidencia en general (a mayor riesgo,\n",
    "mayor número).   \n",
    "\n",
    "juv_misd_count: Número de delitos menores.\n",
    "\n",
    "juv_other_count: Número de condenas juveniles previas que no se consideran delitos graves o delitos menores.\n",
    "\n",
    "priors_count: Número de delitos cometidos anteriormente.\n",
    "\n",
    "days_b_screening_arrest: Recuento de días entre la fecha en la que comete el delito y la fecha que es arrestado.\n",
    "\n",
    "c_jail_in: Fecha en que la persona ingresó en la cárcel (normalizada entre 0 y 1).\n",
    "\n",
    "c_jail_out: Fecha en que la persona fue liberada de la cárcel.\n",
    "\n",
    "c_case_number: Número del caso delictivo.     \n",
    "\n",
    "c_offense_date: Fecha en que se cometió el delito.\n",
    "\n",
    "c_arrest_date: Fecha en la que se arrestó por el delito.\n",
    "\n",
    "c_days_from_compas: Días desde que se evaluó con COMPAS el delito.\n",
    "\n",
    "c_charge_degree: cargos imputados por el delito.\n",
    "\n",
    "c_charge_desc: \n",
    "\n",
    "is_recid:La variable binaria indica si el delincuente es detenido de nuevo (reincidente).\n",
    "\n",
    "num_r_cases: número del caso reincidente\n",
    "\n",
    "r_case_number: número del caso reincidente\n",
    "\n",
    "r_charge_degree: Grado de cargo reincidente\n",
    "\n",
    "r_days_from_arrest: Fecha de imputación de un delito reincidente desde el arresto  \n",
    "\n",
    "r_offense_date: Fecha en la que se cometió el delito por el que se considera reincidente a la persona.\n",
    "\n",
    "r_charge_desc: Delincuente reincidente con cargos menores   \n",
    "\n",
    "r_jail_in: Fecha en la que la persona volvió a ingresar en la cárcel por ser reincidente.\n",
    "\n",
    "r_jail_out: Fecha en que la persona salió de la cárcel tras ser reincidente.  \n",
    "\n",
    "is_violent_recid: Es reincidente violento (1 sí y 0 no) \n",
    "\n",
    "num_vr_cases: Número del caso en que el delincuente es reincidente con violencia.\n",
    "\n",
    "vr_case_number: Número del caso del delincuente reincidente con violencia.\n",
    "\n",
    "vr_charge_degree: Grado de cargo del delito con violencia y reincidente.\n",
    "\n",
    "vr_offense_date: Fecha en la que se cometió el delito violento que da lugar a la consideración de reincidente.  \n",
    "\n",
    "vr_charge_desc:  Delincuente violencia reincidente con cargos menores\n",
    "\n",
    "v_type_of_assessment: tipo de evaluación\n",
    "\n",
    "v_decile_score: Es un número de 1 a 10, que indica el riesgo de reincidencia en delitos violentos. Al hacer la evaluación de un caso en COMPAS, se generan las dos puntuaciones (entre otras cosas)    \n",
    "\n",
    "v_score_text: Bajo/medio/alto de cometer en delito violento.\n",
    "\n",
    "v_screening_date: Fecha en la que se realizcó la evaluación tras reincidir en delitos violentos\n",
    "\n",
    "type_of_assessment: Evaluación del delincuente. \n",
    "\n",
    "decile_score.1  \n",
    "\n",
    "score_text: Probabilidad baja/media/alta de reincidente en delito violento.\n",
    "\n",
    "screening_date: fecha en que la persona fue examinada   \n",
    "\n",
    "\n",
    "**Nota**: He averiguado el significado asociado a cada variable. Para ello, he buscado en internet diferentes informes donde se detalla a qué hace referencia cada atributo.En líneas generales puedo destacar que entiendo el sentido de la mayoría de ellas y su funcionalidad en el estudio pertinente. He de decir que aunque la finalidad no es tanto entender cada una de ellas, sí considero importante saber, conocer y \"palpar\" los datos para poder realizar una limpieza correcta del dataset.\n",
    "\n",
    "\n",
    "<h2>1.2 Tipo de datos de las variables</h2>\n",
    "\n",
    "Veamos de qué tipo (string, numérico, fecha, etc) es cada variable.\n"
   ]
  },
  {
   "cell_type": "code",
   "execution_count": null,
   "id": "7b72a9a2",
   "metadata": {},
   "outputs": [],
   "source": [
    "df.dtypes"
   ]
  },
  {
   "cell_type": "markdown",
   "id": "622d9745",
   "metadata": {},
   "source": [
    "Se observa claramente que los únicos tipos de datos que presenta el DataFrame original son <code>int64</code>, <code>object</code>, y <code>float64</code>. \n",
    "\n",
    "Algo a destacar a simple vista es que hay columnas (de tipo fecha) que deben ser casteadas a \"datetime\"."
   ]
  },
  {
   "cell_type": "code",
   "execution_count": null,
   "id": "413f89e8",
   "metadata": {},
   "outputs": [],
   "source": [
    "#casteamos a \"datetime\"\n",
    "df['dob']= pd.to_datetime(df['dob'])\n",
    "df['c_jail_in']= pd.to_datetime(df['c_jail_in'])\n",
    "df['c_jail_out']= pd.to_datetime(df['r_jail_out'])\n",
    "df['r_jail_in']= pd.to_datetime(df['r_jail_in'])\n",
    "df['r_jail_out']= pd.to_datetime(df['c_jail_out'])\n",
    "df['vr_offense_date']= pd.to_datetime(df['vr_offense_date'])\n",
    "df['compas_screening_date']= pd.to_datetime(df['compas_screening_date'])\n",
    "df['c_offense_date']= pd.to_datetime(df['c_offense_date'])\n",
    "df['c_arrest_date']= pd.to_datetime(df['c_arrest_date'])\n",
    "df['r_offense_date']= pd.to_datetime(df['r_offense_date'])"
   ]
  },
  {
   "cell_type": "code",
   "execution_count": null,
   "id": "02069d51",
   "metadata": {},
   "outputs": [],
   "source": [
    "df.dtypes"
   ]
  },
  {
   "cell_type": "markdown",
   "id": "1b37f8b7",
   "metadata": {},
   "source": [
    "<h2>2.2 Describe</h2>\n",
    "\n",
    "Si queremos obtener un resumen estadístico de cada columna, como el conteo, el valor medio de la columna, desviación estandar, etc, utilizaremos el método describe.\n",
    "Este método ofrece varios resúmenes estadistícos, excluyendo valores  <code>NaN</code> (Not a Number)."
   ]
  },
  {
   "cell_type": "code",
   "execution_count": null,
   "id": "7286eb92",
   "metadata": {},
   "outputs": [],
   "source": [
    "df.describe()"
   ]
  },
  {
   "cell_type": "markdown",
   "id": "e0eca183",
   "metadata": {},
   "source": [
    "Se muestra el resumén estadístico de todas las columnas de **tipo numerico (int, float).**<br>"
   ]
  },
  {
   "cell_type": "markdown",
   "id": "03fba515",
   "metadata": {},
   "source": [
    "<h2>2.3 Info</h2>\n",
    "\n",
    "Otro método útil que podemos usar para revisar el dataframe es:"
   ]
  },
  {
   "cell_type": "code",
   "execution_count": null,
   "id": "802ad420",
   "metadata": {},
   "outputs": [],
   "source": [
    "df.info()"
   ]
  },
  {
   "cell_type": "markdown",
   "id": "905a2754",
   "metadata": {},
   "source": [
    "Ofrece un resumen conciso del dataframe. Se tienen **11756 filas** y **47 columnas** en total. Cabe destacar que no disponemos de ninguna columna de tipo \"category\"  y dado que hay campos como \"sexo\" o \"raza\", este tipo de objeto es más conveniente. Procederemos a identificar qué columnas deberíamos transformar en tipo \"category\"."
   ]
  },
  {
   "cell_type": "code",
   "execution_count": null,
   "id": "9f8d8d54",
   "metadata": {},
   "outputs": [],
   "source": [
    "df.nunique()"
   ]
  },
  {
   "cell_type": "code",
   "execution_count": null,
   "id": "6423d416",
   "metadata": {},
   "outputs": [],
   "source": [
    "for col in ['sex', 'age_cat', 'race', 'c_charge_degree', 'is_recid', 'r_charge_degree', 'is_violent_recid', 'v_score_text', 'score_text']:\n",
    "    print(df[col].unique())"
   ]
  },
  {
   "cell_type": "markdown",
   "id": "db16e77a",
   "metadata": {},
   "source": [
    "A estas columnas las vamos a castear a \"category\"."
   ]
  },
  {
   "cell_type": "code",
   "execution_count": null,
   "id": "507bfd4e",
   "metadata": {},
   "outputs": [],
   "source": [
    "for col in ['sex', 'age_cat', 'race', 'c_charge_degree', 'is_recid', 'r_charge_degree', 'is_violent_recid', 'v_score_text', 'score_text']:\n",
    "    df[col] = df[col].astype('category')"
   ]
  },
  {
   "cell_type": "code",
   "execution_count": null,
   "id": "ff6023a9",
   "metadata": {},
   "outputs": [],
   "source": [
    "df.describe(include = 'category')"
   ]
  },
  {
   "cell_type": "code",
   "execution_count": null,
   "id": "e18f2a29",
   "metadata": {},
   "outputs": [],
   "source": [
    "df.describe(include = 'object')"
   ]
  },
  {
   "cell_type": "code",
   "execution_count": null,
   "id": "01986d89",
   "metadata": {},
   "outputs": [],
   "source": [
    "df.describe(include = np.number)"
   ]
  },
  {
   "cell_type": "markdown",
   "id": "68855fea",
   "metadata": {},
   "source": [
    "Como podemos observar, tras realizar un breve preprocesado de datos, nos damos cuenta de que estamos ante un dataset que necesita ser limpiado para poder conseguir extraer toda la información relevante."
   ]
  },
  {
   "cell_type": "markdown",
   "id": "94311a4a",
   "metadata": {},
   "source": [
    "# 2. Calidad de los datos."
   ]
  },
  {
   "cell_type": "code",
   "execution_count": null,
   "id": "8af0a998",
   "metadata": {},
   "outputs": [],
   "source": [
    "# Vemos que hay nombres que se repiten, por lo que necesitamos saber si hay un error o si son personas distintas. \n",
    "df[df.name.duplicated(keep = False)]"
   ]
  },
  {
   "cell_type": "code",
   "execution_count": null,
   "id": "c9b1fa58",
   "metadata": {},
   "outputs": [],
   "source": [
    "df.loc[df['name'] == 'anthony smith']"
   ]
  },
  {
   "cell_type": "markdown",
   "id": "e81059d2",
   "metadata": {},
   "source": [
    "Las personas que comparten nombre no son la misma persona. Esto tiene sentido ya que no se haria un registro nuevo en COMPAS sino que se consideraria el evento una reincidencia."
   ]
  },
  {
   "cell_type": "markdown",
   "id": "b4d17fa6",
   "metadata": {},
   "source": [
    "# 3. Actualidad de los datos"
   ]
  },
  {
   "cell_type": "code",
   "execution_count": null,
   "id": "903f60e6",
   "metadata": {},
   "outputs": [],
   "source": [
    "print(\"CANTIDAD de datos nulos por columa en el dataframe\")\n",
    "print(df.isnull().sum())\n",
    "print(\"-----------------------------------------------------\")\n",
    "print(\"PORCENTAJE de datos nulos por columna en el dataframe\")\n",
    "print(df.isnull().sum()/len(df)*100)"
   ]
  },
  {
   "cell_type": "markdown",
   "id": "b2d4e033",
   "metadata": {},
   "source": [
    "Vemos que existen campos nulos/vacios en los días anteriores al arresto inicial. Esta cantidad coincide con la cantidad de las fechas de ingreso en prisión y salida.\n",
    "Es posible que esto se deba a que hay personas que no han cometido un crimen desde el inicio del sistema COMPAS.\n"
   ]
  },
  {
   "cell_type": "code",
   "execution_count": null,
   "id": "b8f17ac5",
   "metadata": {},
   "outputs": [],
   "source": [
    "df_limitado = df[['compas_screening_date', 'juv_fel_count', 'priors_count', 'c_jail_in', 'is_recid', 'r_offense_date', 'is_violent_recid', 'vr_offense_date']]\n",
    "df_limitado.head()"
   ]
  },
  {
   "cell_type": "markdown",
   "id": "c062ef48",
   "metadata": {},
   "source": [
    "\n"
   ]
  },
  {
   "cell_type": "markdown",
   "id": "97c267cf",
   "metadata": {},
   "source": [
    "En esta exploración algo llamativo fue encontrar 3 valores únicos del campo \"is_recid\".\n",
    "Tiene sentido que este campo sea binario. Es decir, debería indicar si reincidió o no. \n",
    "Esto puede deberse a un problema con la integridad de los datos, pero esto se explorará más adelante.\n"
   ]
  },
  {
   "cell_type": "markdown",
   "id": "519e2de7",
   "metadata": {},
   "source": [
    "Además, hay más variables que para el estudio se pretende realizar no aportan gran significado:"
   ]
  },
  {
   "cell_type": "code",
   "execution_count": null,
   "id": "2de27e3c",
   "metadata": {},
   "outputs": [],
   "source": [
    "# Como se describe en el enunciado no sabemos a partir de que fecha ya no se recogen datos de reincidencias, arrestos iniciales etc.\n",
    "# Tampoco se sabe cuando se empezó a usar el sistema COMPAS.\n",
    "print(\"Inicio del estudio COMPAS fechas:\")\n",
    "print(df_limitado[['compas_screening_date', 'c_jail_in', 'r_offense_date', 'vr_offense_date']].min())\n",
    "print(\"\\n\")\n",
    "print(\"Ultimas fechas estudio COMPAS:\")\n",
    "print(df_limitado[['compas_screening_date', 'c_jail_in', 'r_offense_date', 'vr_offense_date']].max())"
   ]
  },
  {
   "cell_type": "markdown",
   "id": "57594222",
   "metadata": {},
   "source": [
    "De esta comprobación se puede ver que se empezaron a registrar casos en el sistema COMPAS el 01 de enero de 2013. Por otro lado, los últimos datos registrados y que tenemos a nuestra disposición son del 29 de Marzo de 2016.Teniendo esto en cuenta, sabemos que no disponemos de datos de reincidiencias posteriores a esta última fecha. No hay más casos registrados posteriores al año 2014. La variable \"compas_screening_date\" así lo señala. Es cierto que las otras variables muestran información en los años siguientes relacionandos a la fechas en las que se producen los delitos. Sin embargo, la información importante entorno a cuándo se registran los casos la da \"compas_screening_date\"."
   ]
  },
  {
   "cell_type": "markdown",
   "id": "0e681525",
   "metadata": {},
   "source": [
    "# Integridad de los datos"
   ]
  },
  {
   "cell_type": "markdown",
   "id": "6216b043",
   "metadata": {},
   "source": [
    "La primera observación que se puede hacer es que desconocemos el ámbito geográfico o las poblaciones objetos de este estudio, haciendo que cualquier observación o predicción que se haga será afectada por los sesgos que puede presentar este dataset ya que no se tendrán en cuenta muchos de los detalles que pueden influir en los datos."
   ]
  },
  {
   "cell_type": "code",
   "execution_count": null,
   "id": "9b29fa65",
   "metadata": {},
   "outputs": [],
   "source": [
    "df_limitado['is_recid'].unique()"
   ]
  },
  {
   "cell_type": "code",
   "execution_count": null,
   "id": "bac38b68",
   "metadata": {},
   "outputs": [],
   "source": [
    "is_recid_negative= df_limitado.loc[df_limitado['is_recid'] == -1]\n",
    "is_recid_negative"
   ]
  },
  {
   "cell_type": "code",
   "execution_count": null,
   "id": "cd2af90c",
   "metadata": {},
   "outputs": [],
   "source": [
    "df_limitado.loc[df_limitado['is_recid'] == 0]"
   ]
  },
  {
   "cell_type": "code",
   "execution_count": null,
   "id": "23a6b4a2",
   "metadata": {},
   "outputs": [],
   "source": [
    "df_limitado.loc[df_limitado['is_recid'] == 1]"
   ]
  },
  {
   "cell_type": "code",
   "execution_count": null,
   "id": "3d9dc7bc",
   "metadata": {},
   "outputs": [],
   "source": [
    "for col in ['juv_fel_count', 'priors_count', 'c_jail_in', 'r_offense_date', 'is_violent_recid', 'vr_offense_date']:\n",
    "    print(is_recid_negative[col].unique())"
   ]
  },
  {
   "cell_type": "code",
   "execution_count": null,
   "id": "1d524698",
   "metadata": {},
   "outputs": [],
   "source": [
    "# Se comprueba el caso no nulo de la columna \"c_jail_in\"...\n",
    "is_recid_negative[is_recid_negative['c_jail_in'].notnull()]"
   ]
  },
  {
   "cell_type": "markdown",
   "id": "8deacd40",
   "metadata": {},
   "source": [
    "Tras aislar el dataframe según los tres valores de la columna \"is_recid\" se puede concluir que el valor 1 representa aquellos casos que sí reinicidieron, donde is_violent_recid indica si ha sido una reincidencia por un acto violento. Por otro lado, el valor 0 representa aquellos casos en los que no hubo reincidencia, al menos hasta la la fecha del 29 de Marzo de 2016. Por último, el valor -1 representa los casos que sí están en el sistema COMPAS pero sin haber cometido un crimen registrado. El caso anterior (ID 7428) es posible que sea un error. También es posible que simplemente no se disponen de los datos pertinentes del resto de los casos. Aún así, dado que aparitr de los datos aportados no se puede determinar, esto supone un problema en la integridad de los datos"
   ]
  },
  {
   "cell_type": "markdown",
   "id": "34c4f4b8",
   "metadata": {},
   "source": [
    "En cuanto a la validez de los datos no hay nada extraño."
   ]
  },
  {
   "cell_type": "markdown",
   "id": "33aa1919",
   "metadata": {},
   "source": [
    "# Ejercicio 2"
   ]
  },
  {
   "cell_type": "markdown",
   "id": "d8331067",
   "metadata": {},
   "source": [
    "Dado que se ha establecido que aquellos registros cuyo valor \"is_recid\" = -1 suponen un problema de integridad de los datos, estos se van a eliminar del dataframe para proceder con la evaluación de las variables.\n"
   ]
  },
  {
   "cell_type": "code",
   "execution_count": null,
   "id": "d9f8f1f2",
   "metadata": {},
   "outputs": [],
   "source": [
    "df=df[(df['is_recid'] !=-1)&(df['decile_score'] !=-1)]"
   ]
  },
  {
   "cell_type": "markdown",
   "id": "4b09dce8",
   "metadata": {},
   "source": [
    "Como se ha identificado durante la investigación sobre la actualidad de los datos, es muy posible que los datos que se tienen de las reincidencias no sea completa ya que un caso puede reincidir después del 29 de Marzo de 2016. Por esta razón, para poder evaluar los datos se tienen que homogeneizar los datos en un periodo de tiempo determinado.\n"
   ]
  },
  {
   "cell_type": "code",
   "execution_count": null,
   "id": "82119260",
   "metadata": {},
   "outputs": [],
   "source": [
    "# Primero necesitamos determinar desde que fecha se debe de considerar el inicio del periodo.\n",
    "df[['c_offense_date', 'c_arrest_date', 'c_charge_desc']]"
   ]
  },
  {
   "cell_type": "code",
   "execution_count": null,
   "id": "6f8687f5",
   "metadata": {},
   "outputs": [],
   "source": [
    "# Entendemos por estos datos que para tener una \"fecha de inicio\" debemos de combinar las dos columnas. \n",
    "df2=df.copy()\n",
    "df2['c_offense_date'] = df2['c_offense_date'].astype(str)\n",
    "df2['c_arrest_date'] = df2['c_arrest_date'].astype(str)\n",
    "df2['start_date']=(df2.c_offense_date+df2.c_arrest_date)\n",
    "df2['start_date'] = df2['start_date'].map(lambda x: x.lstrip('NaT').rstrip('NaT'))\n",
    "df2['start_date']=pd.to_datetime(df2.start_date)\n"
   ]
  },
  {
   "cell_type": "code",
   "execution_count": null,
   "id": "d6d6d2c8",
   "metadata": {},
   "outputs": [],
   "source": [
    "# También establecemos el periodo a considerarse mediante una columna auxiliar denominada \"end_date\". Esta la podremos fijar en función de días.\n",
    "from datetime import timedelta\n",
    "def set_timeframe (timeframe_in_days):\n",
    "    df2['end_date']=df2['start_date']+timedelta(days=timeframe_in_days)\n",
    "    print(df2[['start_date','end_date']])"
   ]
  },
  {
   "cell_type": "code",
   "execution_count": null,
   "id": "84844bbf",
   "metadata": {},
   "outputs": [],
   "source": [
    "df2['time_until_recid']=df2['r_offense_date']-df2['start_date']"
   ]
  },
  {
   "cell_type": "code",
   "execution_count": null,
   "id": "2b5806ca",
   "metadata": {},
   "outputs": [],
   "source": [
    "# Calculamos la media de dias que tardaron en reincidir para cada decile score.\n",
    "for score in [1, 2, 3, 4, 5, 6, 7, 8, 9, 10]:\n",
    "    print('Tiempo Medio de reincidencia de decile_score=',score,\n",
    "          (df2[(df2.time_until_recid!='NaT')&(df2.decile_score==score)]['time_until_recid']).mean())"
   ]
  },
  {
   "cell_type": "code",
   "execution_count": null,
   "id": "e7ee3758",
   "metadata": {},
   "outputs": [],
   "source": [
    "# Viendo que el tiempo medio excede en la mayoria de los casos excede los 300 días, escogeremos para nuestro intervalo de tiempo, 365 días (un año completo).\n",
    "set_timeframe(timeframe_in_days=365)\n",
    "df2['end_date']=df2['start_date']+timedelta(days=365)\n",
    "# Nuestra función establece los valores de la columna end_date y nos devuelve una comprobación:"
   ]
  },
  {
   "cell_type": "code",
   "execution_count": null,
   "id": "0419ec89",
   "metadata": {},
   "outputs": [],
   "source": [
    "# Se ve que la última fecha de reincidencia es posterior a la fecha tope a considerar: \"end_date\"\n",
    "df2[['start_date','end_date', 'r_offense_date']].max()"
   ]
  },
  {
   "cell_type": "code",
   "execution_count": null,
   "id": "5254a971",
   "metadata": {},
   "outputs": [],
   "source": [
    "'''Se crea un dataframe alternativo en el que se ha aplicado un filtro de los datos para que solamente aparezcan aquellos casos que reincidieron durante \n",
    "el periodo o aquellos casos que no reinicdieron'''\n",
    "\n",
    "timeframe_df=df2[(df2['r_offense_date']<df2['end_date'])|(df2['r_offense_date'].isnull())]\n"
   ]
  },
  {
   "cell_type": "code",
   "execution_count": null,
   "id": "189957ce",
   "metadata": {},
   "outputs": [],
   "source": [
    "# Se ve ahora que la última reincidencia registrada ya no es posterior a la fecha tope.\n",
    "timeframe_df[['start_date','end_date', 'r_offense_date']].max()"
   ]
  },
  {
   "cell_type": "code",
   "execution_count": null,
   "id": "053ad9fe",
   "metadata": {},
   "outputs": [],
   "source": [
    "for score in [1, 2, 3, 4, 5, 6, 7, 8, 9, 10]:\n",
    "    print('el número de decile_score=',score,'es',len(timeframe_df[timeframe_df['decile_score'] == score]), 'de los que', len(timeframe_df[(timeframe_df.is_recid == 1) & (timeframe_df.decile_score == score)]),', un',(((len(timeframe_df[(timeframe_df.is_recid == 1) & (timeframe_df.decile_score == score)]))/(len(timeframe_df[timeframe_df['decile_score'] == score])))*100),'%  reincidieron en menos de un año.')"
   ]
  },
  {
   "cell_type": "markdown",
   "id": "7bf08a82",
   "metadata": {},
   "source": [
    "Tras hacer este análisis, se puede observar que las columnas is_recid e is_violent recid, por si solas no son adecuadas para evaluar la precisión de las estimaciones ya que no tienen en cuenta un tiempo homogeneizado. A continuación se crea una feature que sí contemple un tiempo homogeneizado."
   ]
  },
  {
   "cell_type": "code",
   "execution_count": null,
   "id": "e79c7913",
   "metadata": {},
   "outputs": [],
   "source": [
    "df2['recid_within_timeframe']=np.where(df2['r_offense_date']<df2['end_date'],'YES','NO')\n",
    "df2['violent_recid_within_timeframe']=np.where(df2['vr_offense_date']<df2['end_date'],'YES','NO')\n",
    "df2[['recid_within_timeframe', 'violent_recid_within_timeframe']]"
   ]
  },
  {
   "cell_type": "markdown",
   "id": "4db17536-7038-490a-9072-6e8100e591cc",
   "metadata": {},
   "source": [
    "## EJERCICIO 3"
   ]
  },
  {
   "cell_type": "code",
   "execution_count": null,
   "id": "f49e92d6",
   "metadata": {},
   "outputs": [],
   "source": [
    "# Para que el análisis sea correcto, se debe continuar usando los datos de reincidencia dentro de un periodo de tiempo específico.\n",
    "df2['contingencia_recid']=np.where(df2['decile_score']>=7,'YES','NO')"
   ]
  },
  {
   "cell_type": "code",
   "execution_count": null,
   "id": "b0d3374c",
   "metadata": {},
   "outputs": [],
   "source": [
    "# Se comprueba que la columna creada asigna el valor 1 a todos aquellos casos cuyo decile score es >=7.\n",
    "df2[['decile_score','contingencia_recid']]"
   ]
  },
  {
   "cell_type": "code",
   "execution_count": null,
   "id": "13357001",
   "metadata": {},
   "outputs": [],
   "source": [
    "# Creamos la tabla de contingencia.\n",
    "tabla_contingencia = pd.crosstab(df2.contingencia_recid, df2.recid_within_timeframe)\n",
    "tabla_contingencia"
   ]
  },
  {
   "cell_type": "markdown",
   "id": "1bb3a215",
   "metadata": {},
   "source": [
    "En nuestro caso consideramos un caso \"positivo\" aquel en el que sí se ponen medidas de contingencia y sí reinciden en el periodo determinado (un total de 1031 casos). Por lo tanto los errores de tipo I (o falso positivo) son aquellos en los que contingencia_recid=\"YES\" pero recid_within_timeframe=\"NO\" (un total de 1930 casos). Los errores tipo II (o falso negativo)son aquellos en los que contingencia_recid=\"NO\" pero recid_within_timeframe=\"YES\" (un total de 1405 casos). De cara a temas de seguridad ciudadana, caso los errores tipo II son más serios.\n"
   ]
  },
  {
   "cell_type": "markdown",
   "id": "8f1f381a",
   "metadata": {},
   "source": [
    "## EJERCICIO 4."
   ]
  },
  {
   "cell_type": "markdown",
   "id": "8f462479",
   "metadata": {},
   "source": [
    "### Distribución en cuanto a género."
   ]
  },
  {
   "cell_type": "markdown",
   "id": "97640ebe",
   "metadata": {},
   "source": [
    "Lo primero que haremos será contar el número de delincuentes de género masculino y de género femenino:"
   ]
  },
  {
   "cell_type": "code",
   "execution_count": null,
   "id": "dd9fcba5",
   "metadata": {},
   "outputs": [],
   "source": [
    "raw_sex = df.loc[:,[\"sex\"]]\n",
    "raw_sex_grouped = raw_sex.groupby([\"sex\"]).size().reset_index()\n",
    "raw_sex_grouped.columns = [\"sex\",\"count\"]\n",
    "raw_sex_grouped"
   ]
  },
  {
   "cell_type": "markdown",
   "id": "0180876b",
   "metadata": {},
   "source": [
    "Como se aprecia, delinquen más los hombres que las mujeres."
   ]
  },
  {
   "cell_type": "markdown",
   "id": "e881cd8e",
   "metadata": {},
   "source": [
    "Si realizamos un gráfico circular para representar esta información, se tiene que el 79.4 % de hombres reincidentes con violencia son hombres y el 20.6 % mujeres."
   ]
  },
  {
   "cell_type": "code",
   "execution_count": null,
   "id": "cc288ea0",
   "metadata": {},
   "outputs": [],
   "source": [
    "def func(pct):\n",
    "    return \"{:1.1f}%\".format(pct)\n",
    "plt.pie(raw_sex_grouped['count'], labels=raw_sex_grouped['sex'],  autopct=lambda pct: func(pct));\n",
    "plt.title(\"Distribution of Sexes\")"
   ]
  },
  {
   "cell_type": "code",
   "execution_count": null,
   "id": "8fd3f27e",
   "metadata": {},
   "outputs": [],
   "source": [
    "df.groupby('sex').count()[\"score_text\"].plot(kind='bar', color=\"DarkBlue\")"
   ]
  },
  {
   "cell_type": "code",
   "execution_count": null,
   "id": "ae5fef7d",
   "metadata": {},
   "outputs": [],
   "source": [
    "pd.crosstab(df['score_text'],df['sex'])"
   ]
  },
  {
   "cell_type": "markdown",
   "id": "a4bf0592",
   "metadata": {},
   "source": [
    "Un paso a mayores que se puede realizar consiste en calcular el porcentaje de delincuentes, ya sean hombre o mujeres, que se dividen en puntuación alta, media y baja según tengan más o menos probabilidad de ser reincidentes con violencia."
   ]
  },
  {
   "cell_type": "code",
   "execution_count": null,
   "id": "805100e2",
   "metadata": {},
   "outputs": [],
   "source": [
    "raw_sex_score = df.loc[:,[\"sex\",\"score_text\"]]\n",
    "raw_sex_score_grouped = raw_sex_score.groupby([\"sex\",\"score_text\"]).size().reset_index()\n",
    "raw_sex_score_grouped.columns = [\"sex\",\"score_text\",\"count\"]\n",
    "raw_sex_score_grouped\n",
    "## how to append a column which works on percentage\n",
    "raw_sex_score_grouped['percentage'] = 1.0\n",
    "for i in range(3):\n",
    "    raw_sex_score_grouped['percentage'][i] = raw_sex_score_grouped['count'][i] / 2421\n",
    "for i in range(3,6):\n",
    "    raw_sex_score_grouped['percentage'][i] = raw_sex_score_grouped['count'][i] / 9336"
   ]
  },
  {
   "cell_type": "code",
   "execution_count": null,
   "id": "80f6732e",
   "metadata": {},
   "outputs": [],
   "source": [
    "raw_sex_score_grouped"
   ]
  },
  {
   "cell_type": "markdown",
   "id": "ac515053",
   "metadata": {},
   "source": [
    "De esta tabla se deduce que el 13.58% de las mujeres tienen probabilidad alta de ser reincidentes con violencia, el 59.81% probabilidad baja de reincidir violentamente y el 26.43% probabilidad media. En cuanto a los hombres, el 55.25% tiene riesgo bajo, el 20.12% riesgo alto y el 24.49% riesgo medio."
   ]
  },
  {
   "cell_type": "markdown",
   "id": "e6b33894",
   "metadata": {},
   "source": [
    "## distribución de raza"
   ]
  },
  {
   "cell_type": "code",
   "execution_count": null,
   "id": "cc144c21",
   "metadata": {},
   "outputs": [],
   "source": [
    "df3=df2.copy()\n",
    "df3.drop('time_until_recid', inplace=True, axis=1)"
   ]
  },
  {
   "cell_type": "code",
   "execution_count": null,
   "id": "d6e7f57e",
   "metadata": {},
   "outputs": [],
   "source": [
    "df_compare_race=df3.copy()\n",
    "df_compare_race=df_compare_race[(df_compare_race['race']=='Caucasian')|(df_compare_race['race']=='African-American')]"
   ]
  },
  {
   "cell_type": "code",
   "execution_count": null,
   "id": "1341c385",
   "metadata": {},
   "outputs": [],
   "source": [
    "# Dado que el boxplot estandar de Altair no muestra la media sino la mediana, se ha tenido que crear el boxplot de manera manual.\n",
    "decile_by_sex = alt.LayerChart(data=df3).transform_aggregate(\n",
    "    min=\"min(decile_score)\",\n",
    "    max=\"max(decile_score)\",\n",
    "    mean=\"mean(decile_score)\",\n",
    "    q1=\"q1(decile_score)\",\n",
    "    median=\"median(decile_score)\",\n",
    "    q3=\"q3(decile_score)\",\n",
    "    groupby=['sex']\n",
    ").encode(\n",
    "    x='sex:N',\n",
    "    tooltip=['min:Q', 'q1:Q', 'median:Q','mean:Q', 'q3:Q', 'max:Q']\n",
    ").add_layers(\n",
    "    alt.Chart().mark_rule().encode(y='min:Q', y2='max:Q'),\n",
    "    alt.Chart().mark_bar(width=30).encode(y='q1:Q', y2='q3:Q'),\n",
    "    alt.Chart().mark_tick(color='white', width=30).encode(y='median:Q'),\n",
    ").properties(\n",
    "    title='Distribution of decile_score by sex',\n",
    "    width=150\n",
    ")\n",
    "\n",
    "decile_by_race = alt.LayerChart(data=df_compare_race).transform_aggregate(\n",
    "    min=\"min(decile_score)\",\n",
    "    max=\"max(decile_score)\",\n",
    "    mean=\"mean(decile_score)\",\n",
    "    q1=\"q1(decile_score)\",\n",
    "    median=\"median(decile_score)\",\n",
    "    q3=\"q3(decile_score)\",\n",
    "    groupby=['race']\n",
    ").encode(\n",
    "    x='race:N',\n",
    "    tooltip=['min:Q', 'q1:Q', 'median:Q','mean:Q', 'q3:Q', 'max:Q']\n",
    ").add_layers(\n",
    "    alt.Chart().mark_rule().encode(y='min:Q', y2='max:Q'),\n",
    "    alt.Chart().mark_bar(width=30).encode(y='q1:Q', y2='q3:Q'),\n",
    "    alt.Chart().mark_tick(color='white', width=30).encode(y='median:Q'),\n",
    ").properties(\n",
    "    title='Distribution of decile_score by race',\n",
    "    width=150\n",
    ")\n",
    "alt.hconcat(decile_by_sex, decile_by_race)"
   ]
  },
  {
   "cell_type": "code",
   "execution_count": null,
   "id": "af197996",
   "metadata": {},
   "outputs": [],
   "source": [
    "sns.violinplot(data=df2, x=\"sex\", y=\"decile_score\")"
   ]
  },
  {
   "cell_type": "code",
   "execution_count": null,
   "id": "27d9f046",
   "metadata": {},
   "outputs": [],
   "source": [
    "sns.violinplot(data=df2, x=\"race\", y=\"decile_score\")"
   ]
  },
  {
   "cell_type": "code",
   "execution_count": null,
   "id": "394a684d",
   "metadata": {},
   "outputs": [],
   "source": []
  }
 ],
 "metadata": {
  "kernelspec": {
   "display_name": "Python 3 (ipykernel)",
   "language": "python",
   "name": "python3"
  },
  "language_info": {
   "codemirror_mode": {
    "name": "ipython",
    "version": 3
   },
   "file_extension": ".py",
   "mimetype": "text/x-python",
   "name": "python",
   "nbconvert_exporter": "python",
   "pygments_lexer": "ipython3",
   "version": "3.8.10"
  }
 },
 "nbformat": 4,
 "nbformat_minor": 5
}
